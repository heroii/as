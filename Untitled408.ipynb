{
 "cells": [
  {
   "cell_type": "code",
   "execution_count": 1,
   "id": "3822bb96-d3af-4156-9625-783937492b78",
   "metadata": {},
   "outputs": [],
   "source": [
    "#q1\n",
    "# sample size is not given"
   ]
  },
  {
   "cell_type": "code",
   "execution_count": 1,
   "id": "51f4ab01-62a7-497c-a5d8-afdb035131c6",
   "metadata": {},
   "outputs": [
    {
     "name": "stdout",
     "output_type": "stream",
     "text": [
      "8.818713450292398\n"
     ]
    }
   ],
   "source": [
    "#q2\n",
    "import numpy as np\n",
    "import pandas as pd\n",
    "\n",
    "ch=np.random.randint(10,20,6)\n",
    "df=[20,20,20,10,10,20]\n",
    "j=0\n",
    "\n",
    "for i in range(0,6):\n",
    "    j=j+((df[i]-ch[i])**2/ch[i])\n",
    "print(j)\n",
    "    "
   ]
  },
  {
   "cell_type": "code",
   "execution_count": 2,
   "id": "a48b4a7a-5e87-4d81-8c07-a0d01835f8db",
   "metadata": {},
   "outputs": [],
   "source": [
    "#null hypothesis- the observed data follows expected data\n",
    "#alternate hypothesis- the observed data doesn't follow expected data\n",
    "# assumptions\n",
    "#data is independent\n",
    "# expected frequency is more than 5\n",
    "# fixed distribution\n",
    "#categorical data\n"
   ]
  },
  {
   "cell_type": "code",
   "execution_count": 3,
   "id": "31dea625-7cff-4d58-a152-291116829461",
   "metadata": {},
   "outputs": [
    {
     "name": "stdout",
     "output_type": "stream",
     "text": [
      "0.11651723910400731\n"
     ]
    }
   ],
   "source": [
    "import scipy.stats as stats\n",
    "test_statistics=j\n",
    "df=5\n",
    "\n",
    "p_value=stats.chi2.sf(test_statistics,df)\n",
    "print(p_value)\n",
    "\n"
   ]
  },
  {
   "cell_type": "code",
   "execution_count": 4,
   "id": "32db32b2-7f6f-4cb9-a931-cc1c361700c2",
   "metadata": {},
   "outputs": [
    {
     "name": "stdout",
     "output_type": "stream",
     "text": [
      "accept null hypothesis\n"
     ]
    }
   ],
   "source": [
    "if p_value<0.05:\n",
    "    print('reject null hypothesis')\n",
    "else:\n",
    "    print('accept null hypothesis')\n",
    "    "
   ]
  },
  {
   "cell_type": "code",
   "execution_count": 5,
   "id": "4319d7d7-a4ec-467f-9b7c-9d5cff8e3b12",
   "metadata": {},
   "outputs": [],
   "source": [
    "data={\n",
    "    'Group A':[20,10,15],\n",
    "    'Group B':[15,25,20]\n",
    "}\n",
    "\n",
    "ef=pd.DataFrame(data)"
   ]
  },
  {
   "cell_type": "code",
   "execution_count": 6,
   "id": "d703f4c0-2d4f-482a-817b-a434fa007ef1",
   "metadata": {},
   "outputs": [
    {
     "data": {
      "text/plain": [
       "(5.833333333333334,\n",
       " 0.05411376622282158,\n",
       " 2,\n",
       " array([[15., 20.],\n",
       "        [15., 20.],\n",
       "        [15., 20.]]))"
      ]
     },
     "execution_count": 6,
     "metadata": {},
     "output_type": "execute_result"
    }
   ],
   "source": [
    "from scipy.stats import chi2_contingency\n",
    "chi2_contingency(ef)"
   ]
  },
  {
   "cell_type": "code",
   "execution_count": 7,
   "id": "5220ea2b-1e20-4573-b5d4-5aaf206d13e2",
   "metadata": {},
   "outputs": [],
   "source": [
    "# since pvalue is greater than  0.05 accept null hypotheis\n",
    "# that there is no realtion between the categorical variables\n"
   ]
  },
  {
   "cell_type": "code",
   "execution_count": 8,
   "id": "63753726-b631-4437-8b7e-38b85a87ae48",
   "metadata": {},
   "outputs": [],
   "source": [
    "#q4\n",
    "#data given is not enough"
   ]
  },
  {
   "cell_type": "code",
   "execution_count": 9,
   "id": "af261ce5-990e-49a7-b104-281cdc9b6f6c",
   "metadata": {},
   "outputs": [],
   "source": [
    "#q5 sample size is not given"
   ]
  },
  {
   "cell_type": "code",
   "execution_count": 10,
   "id": "42818e30-e2f8-4dbb-bcff-d27b05fd3e02",
   "metadata": {},
   "outputs": [
    {
     "name": "stderr",
     "output_type": "stream",
     "text": [
      "/tmp/ipykernel_216/3060823037.py:5: UserWarning: \n",
      "\n",
      "`distplot` is a deprecated function and will be removed in seaborn v0.14.0.\n",
      "\n",
      "Please adapt your code to use either `displot` (a figure-level function with\n",
      "similar flexibility) or `kdeplot` (an axes-level function for kernel density plots).\n",
      "\n",
      "For a guide to updating your code to use the new functions, please see\n",
      "https://gist.github.com/mwaskom/de44147ed2974457ad6372750bbe5751\n",
      "\n",
      "  sns.distplot(np.random.chisquare(df=10,size=1000),hist=False)\n"
     ]
    },
    {
     "ename": "NameError",
     "evalue": "name 'plt' is not defined",
     "output_type": "error",
     "traceback": [
      "\u001b[0;31m---------------------------------------------------------------------------\u001b[0m",
      "\u001b[0;31mNameError\u001b[0m                                 Traceback (most recent call last)",
      "Cell \u001b[0;32mIn[10], line 6\u001b[0m\n\u001b[1;32m      4\u001b[0m np\u001b[38;5;241m.\u001b[39mrandom\u001b[38;5;241m.\u001b[39mchisquare(df\u001b[38;5;241m=\u001b[39m\u001b[38;5;241m10\u001b[39m,size\u001b[38;5;241m=\u001b[39m\u001b[38;5;241m1000\u001b[39m)\n\u001b[1;32m      5\u001b[0m sns\u001b[38;5;241m.\u001b[39mdistplot(np\u001b[38;5;241m.\u001b[39mrandom\u001b[38;5;241m.\u001b[39mchisquare(df\u001b[38;5;241m=\u001b[39m\u001b[38;5;241m10\u001b[39m,size\u001b[38;5;241m=\u001b[39m\u001b[38;5;241m1000\u001b[39m),hist\u001b[38;5;241m=\u001b[39m\u001b[38;5;28;01mFalse\u001b[39;00m)\n\u001b[0;32m----> 6\u001b[0m \u001b[43mplt\u001b[49m\u001b[38;5;241m.\u001b[39mshow()\n",
      "\u001b[0;31mNameError\u001b[0m: name 'plt' is not defined"
     ]
    },
    {
     "data": {
      "image/png": "[encoded data removed]",
      "text/plain": [
       "<Figure size 640x480 with 1 Axes>"
      ]
     },
     "metadata": {},
     "output_type": "display_data"
    }
   ],
   "source": [
    "#q6\n",
    "\n",
    "import seaborn as sns\n",
    "np.random.chisquare(df=10,size=1000)\n",
    "sns.distplot(np.random.chisquare(df=10,size=1000),hist=False)\n",
    "plt.show()"
   ]
  },
  {
   "cell_type": "code",
   "execution_count": null,
   "id": "5f881100-a7e5-43be-8085-be19691788a0",
   "metadata": {},
   "outputs": [],
   "source": [
    "# data is not given"
   ]
  },
  {
   "cell_type": "code",
   "execution_count": null,
   "id": "0c30eba1-122e-4480-891f-f4573c5ce87e",
   "metadata": {},
   "outputs": [],
   "source": [
    "#q8\n",
    "#data is  is independent\n",
    "#expected ferquency is greater than 5\n",
    "#fixed distribution\n",
    "# categorical variable\n"
   ]
  },
  {
   "cell_type": "code",
   "execution_count": 11,
   "id": "5d79f650-9969-4031-82ce-be3d8f98ba65",
   "metadata": {},
   "outputs": [],
   "source": [
    "L=[]\n",
    "Lp=[]\n",
    "for i in range(1,51):\n",
    "    L.append(2)\n",
    "    Lp.append(1)"
   ]
  },
  {
   "cell_type": "code",
   "execution_count": 12,
   "id": "fbd93669-6157-49d4-be78-80272d76a50e",
   "metadata": {},
   "outputs": [],
   "source": [
    "aj=L+Lp"
   ]
  },
  {
   "cell_type": "code",
   "execution_count": 13,
   "id": "f542d45b-ca8c-413d-b91b-9c8ad076cc7d",
   "metadata": {},
   "outputs": [],
   "source": [
    "y=[]\n",
    "u=[]\n",
    "for j in range(1,46):\n",
    "    y.append(2)\n",
    "for g in range(0,55):\n",
    "    u.append(1)\n",
    "    "
   ]
  },
  {
   "cell_type": "code",
   "execution_count": 14,
   "id": "fd475f51-aa6f-4240-9174-f4e89f760d57",
   "metadata": {},
   "outputs": [],
   "source": [
    "er=y+u\n",
    "o=0"
   ]
  },
  {
   "cell_type": "code",
   "execution_count": 15,
   "id": "78cb5524-da12-4152-9cce-77e06907e870",
   "metadata": {},
   "outputs": [
    {
     "name": "stdout",
     "output_type": "stream",
     "text": [
      "2.5\n"
     ]
    }
   ],
   "source": [
    "for i in range(0,100):\n",
    "    o=o+((er[i]-aj[i])**2/aj[i])\n",
    "print(o)\n",
    "    "
   ]
  },
  {
   "cell_type": "code",
   "execution_count": 97,
   "id": "6d1f9d8c-a62b-4bd8-9da8-4400cd739e6e",
   "metadata": {},
   "outputs": [
    {
     "name": "stdout",
     "output_type": "stream",
     "text": [
      "10.0\n"
     ]
    }
   ],
   "source": [
    "p_value=stats.chi2.sf(o,99)\n",
    "print(o)\n",
    "\n",
    "\n"
   ]
  },
  {
   "cell_type": "code",
   "execution_count": 16,
   "id": "f16d4d64-b13e-4e21-ba81-5e40fabb20de",
   "metadata": {},
   "outputs": [],
   "source": [
    "#since p value is less than 10 reject you null hypothesis\n"
   ]
  },
  {
   "cell_type": "code",
   "execution_count": 20,
   "id": "0707d5b7-d7d8-4f15-b79b-c6d45a641117",
   "metadata": {},
   "outputs": [],
   "source": [
    "#Q9\n",
    "\n",
    "data={\n",
    "    'Lung cancer:Yes':[60,30],\n",
    "    'Lung cancer:No':[140,170]\n",
    "}\n",
    "ch=pd.DataFrame(data)\n",
    "from scipy.stats import chi2_contingency   \n",
    "\n",
    "\n",
    "\n",
    "\n"
   ]
  },
  {
   "cell_type": "code",
   "execution_count": 21,
   "id": "559f9b69-660c-48f4-9e23-ad0b6b4d24e4",
   "metadata": {},
   "outputs": [],
   "source": [
    "chi2,p_value,dof,expected=chi2_contingency(ch)"
   ]
  },
  {
   "cell_type": "code",
   "execution_count": 22,
   "id": "9f8f2a63-8b12-4a69-a93c-cb1a72a32001",
   "metadata": {},
   "outputs": [
    {
     "data": {
      "text/plain": [
       "0.0005158863863703744"
      ]
     },
     "execution_count": 22,
     "metadata": {},
     "output_type": "execute_result"
    }
   ],
   "source": [
    "p_value"
   ]
  },
  {
   "cell_type": "code",
   "execution_count": 23,
   "id": "c878c642-5600-425e-b2fb-cf7d8e144e2d",
   "metadata": {},
   "outputs": [
    {
     "name": "stdout",
     "output_type": "stream",
     "text": [
      "reject null hypothesis\n"
     ]
    }
   ],
   "source": [
    "if p_value<0.05:\n",
    "    print('reject null hypothesis')\n",
    "else:\n",
    "    print('accept the null hypotheisi')"
   ]
  },
  {
   "cell_type": "code",
   "execution_count": 24,
   "id": "f239a856-ff2b-4a96-a555-7f0abe2d4e09",
   "metadata": {},
   "outputs": [],
   "source": [
    "#q11\n",
    "dat={\n",
    "    'Milk chocolate':[200,225],\n",
    "    'Dark chocolate':[150,175],\n",
    "    'white chocolate':[150,100],\n",
    "    \n",
    "}\n",
    "fg=pd.DataFrame(dat)\n"
   ]
  },
  {
   "cell_type": "code",
   "execution_count": 25,
   "id": "66ee26ad-5e3e-4402-84b7-e6d9110dd680",
   "metadata": {},
   "outputs": [
    {
     "name": "stdout",
     "output_type": "stream",
     "text": [
      "reject null hypothesis\n"
     ]
    }
   ],
   "source": [
    "chi2,p_value,dof,expected=chi2_contingency(fg)\n",
    "if p_value<0.05:\n",
    "    print('reject null hypothesis')\n",
    "else:\n",
    "    print('accept the null hypotheisi')"
   ]
  },
  {
   "cell_type": "code",
   "execution_count": 33,
   "id": "ff266122-c672-491a-bbfc-3e5eb8e19187",
   "metadata": {},
   "outputs": [],
   "source": [
    "#12\n",
    "from math import sqrt\n",
    "t_value=((72-70)*sqrt(30))/10"
   ]
  },
  {
   "cell_type": "code",
   "execution_count": 34,
   "id": "51eca8cb-9a24-4e08-8dc6-22af48d14588",
   "metadata": {},
   "outputs": [],
   "source": [
    "from scipy.stats import t\n",
    "cdf_value=t.cdf(t_value,29)"
   ]
  },
  {
   "cell_type": "code",
   "execution_count": 35,
   "id": "f1047b52-c6a6-4d60-8289-0c1b09aad42c",
   "metadata": {},
   "outputs": [
    {
     "name": "stdout",
     "output_type": "stream",
     "text": [
      "0.8588318813569651\n"
     ]
    }
   ],
   "source": [
    "print(cdf_value)"
   ]
  },
  {
   "cell_type": "code",
   "execution_count": null,
   "id": "edc90380-8705-41db-99fe-4eb5deed8ac0",
   "metadata": {},
   "outputs": [],
   "source": [
    "if cdf_value<0.05:\n",
    "    print('reject null hypotheis')\n",
    "    "
   ]
  }
 ],
 "metadata": {
  "kernelspec": {
   "display_name": "Python 3 (ipykernel)",
   "language": "python",
   "name": "python3"
  },
  "language_info": {
   "codemirror_mode": {
    "name": "ipython",
    "version": 3
   },
   "file_extension": ".py",
   "mimetype": "text/x-python",
   "name": "python",
   "nbconvert_exporter": "python",
   "pygments_lexer": "ipython3",
   "version": "3.10.8"
  }
 },
 "nbformat": 4,
 "nbformat_minor": 5
}
